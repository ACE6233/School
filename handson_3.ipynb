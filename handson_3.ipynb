{
  "cells": [
    {
      "cell_type": "markdown",
      "metadata": {
        "id": "view-in-github",
        "colab_type": "text"
      },
      "source": [
        "<a href=\"https://colab.research.google.com/github/ACE6233/School/blob/main/handson_3.ipynb\" target=\"_parent\"><img src=\"https://colab.research.google.com/assets/colab-badge.svg\" alt=\"Open In Colab\"/></a>"
      ]
    },
    {
      "cell_type": "markdown",
      "metadata": {
        "id": "CR2vA3DKfU5Y"
      },
      "source": [
        "## Hands-on 3\n",
        "#### The objective of this hands-on is to train a convolutional neural network (CNN) to recognize the handwritten digits (0 - 9)."
      ]
    },
    {
      "cell_type": "code",
      "execution_count": null,
      "metadata": {
        "id": "6tLf-R5DfU5a",
        "colab": {
          "base_uri": "https://localhost:8080/"
        },
        "outputId": "002e0d60-2a85-4be1-b5a2-3bf30d885b4e"
      },
      "outputs": [
        {
          "output_type": "stream",
          "name": "stdout",
          "text": [
            "Requirement already satisfied: gradio in /usr/local/lib/python3.12/dist-packages (5.44.1)\n",
            "Requirement already satisfied: aiofiles<25.0,>=22.0 in /usr/local/lib/python3.12/dist-packages (from gradio) (24.1.0)\n",
            "Requirement already satisfied: anyio<5.0,>=3.0 in /usr/local/lib/python3.12/dist-packages (from gradio) (4.10.0)\n",
            "Requirement already satisfied: brotli>=1.1.0 in /usr/local/lib/python3.12/dist-packages (from gradio) (1.1.0)\n",
            "Requirement already satisfied: fastapi<1.0,>=0.115.2 in /usr/local/lib/python3.12/dist-packages (from gradio) (0.116.1)\n",
            "Requirement already satisfied: ffmpy in /usr/local/lib/python3.12/dist-packages (from gradio) (0.6.1)\n",
            "Requirement already satisfied: gradio-client==1.12.1 in /usr/local/lib/python3.12/dist-packages (from gradio) (1.12.1)\n",
            "Requirement already satisfied: groovy~=0.1 in /usr/local/lib/python3.12/dist-packages (from gradio) (0.1.2)\n",
            "Requirement already satisfied: httpx<1.0,>=0.24.1 in /usr/local/lib/python3.12/dist-packages (from gradio) (0.28.1)\n",
            "Requirement already satisfied: huggingface-hub<1.0,>=0.33.5 in /usr/local/lib/python3.12/dist-packages (from gradio) (0.34.4)\n",
            "Requirement already satisfied: jinja2<4.0 in /usr/local/lib/python3.12/dist-packages (from gradio) (3.1.6)\n",
            "Requirement already satisfied: markupsafe<4.0,>=2.0 in /usr/local/lib/python3.12/dist-packages (from gradio) (3.0.2)\n",
            "Requirement already satisfied: numpy<3.0,>=1.0 in /usr/local/lib/python3.12/dist-packages (from gradio) (2.0.2)\n",
            "Requirement already satisfied: orjson~=3.0 in /usr/local/lib/python3.12/dist-packages (from gradio) (3.11.3)\n",
            "Requirement already satisfied: packaging in /usr/local/lib/python3.12/dist-packages (from gradio) (25.0)\n",
            "Requirement already satisfied: pandas<3.0,>=1.0 in /usr/local/lib/python3.12/dist-packages (from gradio) (2.2.2)\n",
            "Requirement already satisfied: pillow<12.0,>=8.0 in /usr/local/lib/python3.12/dist-packages (from gradio) (11.3.0)\n",
            "Requirement already satisfied: pydantic<2.12,>=2.0 in /usr/local/lib/python3.12/dist-packages (from gradio) (2.11.7)\n",
            "Requirement already satisfied: pydub in /usr/local/lib/python3.12/dist-packages (from gradio) (0.25.1)\n",
            "Requirement already satisfied: python-multipart>=0.0.18 in /usr/local/lib/python3.12/dist-packages (from gradio) (0.0.20)\n",
            "Requirement already satisfied: pyyaml<7.0,>=5.0 in /usr/local/lib/python3.12/dist-packages (from gradio) (6.0.2)\n",
            "Requirement already satisfied: ruff>=0.9.3 in /usr/local/lib/python3.12/dist-packages (from gradio) (0.12.12)\n",
            "Requirement already satisfied: safehttpx<0.2.0,>=0.1.6 in /usr/local/lib/python3.12/dist-packages (from gradio) (0.1.6)\n",
            "Requirement already satisfied: semantic-version~=2.0 in /usr/local/lib/python3.12/dist-packages (from gradio) (2.10.0)\n",
            "Requirement already satisfied: starlette<1.0,>=0.40.0 in /usr/local/lib/python3.12/dist-packages (from gradio) (0.47.3)\n",
            "Requirement already satisfied: tomlkit<0.14.0,>=0.12.0 in /usr/local/lib/python3.12/dist-packages (from gradio) (0.13.3)\n",
            "Requirement already satisfied: typer<1.0,>=0.12 in /usr/local/lib/python3.12/dist-packages (from gradio) (0.17.3)\n",
            "Requirement already satisfied: typing-extensions~=4.0 in /usr/local/lib/python3.12/dist-packages (from gradio) (4.15.0)\n",
            "Requirement already satisfied: uvicorn>=0.14.0 in /usr/local/lib/python3.12/dist-packages (from gradio) (0.35.0)\n",
            "Requirement already satisfied: fsspec in /usr/local/lib/python3.12/dist-packages (from gradio-client==1.12.1->gradio) (2025.3.0)\n",
            "Requirement already satisfied: websockets<16.0,>=10.0 in /usr/local/lib/python3.12/dist-packages (from gradio-client==1.12.1->gradio) (15.0.1)\n",
            "Requirement already satisfied: idna>=2.8 in /usr/local/lib/python3.12/dist-packages (from anyio<5.0,>=3.0->gradio) (3.10)\n",
            "Requirement already satisfied: sniffio>=1.1 in /usr/local/lib/python3.12/dist-packages (from anyio<5.0,>=3.0->gradio) (1.3.1)\n",
            "Requirement already satisfied: certifi in /usr/local/lib/python3.12/dist-packages (from httpx<1.0,>=0.24.1->gradio) (2025.8.3)\n",
            "Requirement already satisfied: httpcore==1.* in /usr/local/lib/python3.12/dist-packages (from httpx<1.0,>=0.24.1->gradio) (1.0.9)\n",
            "Requirement already satisfied: h11>=0.16 in /usr/local/lib/python3.12/dist-packages (from httpcore==1.*->httpx<1.0,>=0.24.1->gradio) (0.16.0)\n",
            "Requirement already satisfied: filelock in /usr/local/lib/python3.12/dist-packages (from huggingface-hub<1.0,>=0.33.5->gradio) (3.19.1)\n",
            "Requirement already satisfied: requests in /usr/local/lib/python3.12/dist-packages (from huggingface-hub<1.0,>=0.33.5->gradio) (2.32.4)\n",
            "Requirement already satisfied: tqdm>=4.42.1 in /usr/local/lib/python3.12/dist-packages (from huggingface-hub<1.0,>=0.33.5->gradio) (4.67.1)\n",
            "Requirement already satisfied: hf-xet<2.0.0,>=1.1.3 in /usr/local/lib/python3.12/dist-packages (from huggingface-hub<1.0,>=0.33.5->gradio) (1.1.9)\n",
            "Requirement already satisfied: python-dateutil>=2.8.2 in /usr/local/lib/python3.12/dist-packages (from pandas<3.0,>=1.0->gradio) (2.9.0.post0)\n",
            "Requirement already satisfied: pytz>=2020.1 in /usr/local/lib/python3.12/dist-packages (from pandas<3.0,>=1.0->gradio) (2025.2)\n",
            "Requirement already satisfied: tzdata>=2022.7 in /usr/local/lib/python3.12/dist-packages (from pandas<3.0,>=1.0->gradio) (2025.2)\n",
            "Requirement already satisfied: annotated-types>=0.6.0 in /usr/local/lib/python3.12/dist-packages (from pydantic<2.12,>=2.0->gradio) (0.7.0)\n",
            "Requirement already satisfied: pydantic-core==2.33.2 in /usr/local/lib/python3.12/dist-packages (from pydantic<2.12,>=2.0->gradio) (2.33.2)\n",
            "Requirement already satisfied: typing-inspection>=0.4.0 in /usr/local/lib/python3.12/dist-packages (from pydantic<2.12,>=2.0->gradio) (0.4.1)\n",
            "Requirement already satisfied: click>=8.0.0 in /usr/local/lib/python3.12/dist-packages (from typer<1.0,>=0.12->gradio) (8.2.1)\n",
            "Requirement already satisfied: shellingham>=1.3.0 in /usr/local/lib/python3.12/dist-packages (from typer<1.0,>=0.12->gradio) (1.5.4)\n",
            "Requirement already satisfied: rich>=10.11.0 in /usr/local/lib/python3.12/dist-packages (from typer<1.0,>=0.12->gradio) (13.9.4)\n",
            "Requirement already satisfied: six>=1.5 in /usr/local/lib/python3.12/dist-packages (from python-dateutil>=2.8.2->pandas<3.0,>=1.0->gradio) (1.17.0)\n",
            "Requirement already satisfied: markdown-it-py>=2.2.0 in /usr/local/lib/python3.12/dist-packages (from rich>=10.11.0->typer<1.0,>=0.12->gradio) (4.0.0)\n",
            "Requirement already satisfied: pygments<3.0.0,>=2.13.0 in /usr/local/lib/python3.12/dist-packages (from rich>=10.11.0->typer<1.0,>=0.12->gradio) (2.19.2)\n",
            "Requirement already satisfied: charset_normalizer<4,>=2 in /usr/local/lib/python3.12/dist-packages (from requests->huggingface-hub<1.0,>=0.33.5->gradio) (3.4.3)\n",
            "Requirement already satisfied: urllib3<3,>=1.21.1 in /usr/local/lib/python3.12/dist-packages (from requests->huggingface-hub<1.0,>=0.33.5->gradio) (2.5.0)\n",
            "Requirement already satisfied: mdurl~=0.1 in /usr/local/lib/python3.12/dist-packages (from markdown-it-py>=2.2.0->rich>=10.11.0->typer<1.0,>=0.12->gradio) (0.1.2)\n"
          ]
        }
      ],
      "source": [
        "pip install gradio"
      ]
    },
    {
      "cell_type": "code",
      "execution_count": null,
      "metadata": {
        "id": "dTGh9k866VHq",
        "colab": {
          "base_uri": "https://localhost:8080/",
          "height": 236
        },
        "outputId": "bed8eb14-3e71-4659-e8ef-2f5a8e8651c1"
      },
      "outputs": [
        {
          "output_type": "stream",
          "name": "stdout",
          "text": [
            "Downloading data from https://storage.googleapis.com/tensorflow/tf-keras-datasets/mnist.npz\n",
            "\u001b[1m11490434/11490434\u001b[0m \u001b[32m━━━━━━━━━━━━━━━━━━━━\u001b[0m\u001b[37m\u001b[0m \u001b[1m2s\u001b[0m 0us/step\n"
          ]
        },
        {
          "output_type": "display_data",
          "data": {
            "text/plain": [
              "<Figure size 640x480 with 4 Axes>"
            ],
            "image/png": "[encoded data removed]"
          },
          "metadata": {}
        }
      ],
      "source": [
        "import numpy\n",
        "from tensorflow.keras.datasets import mnist\n",
        "from tensorflow.keras.models import Sequential\n",
        "from tensorflow.keras.layers import Dense\n",
        "from tensorflow.keras.layers import Flatten\n",
        "from tensorflow.keras.layers import Conv2D\n",
        "from tensorflow.keras.layers import MaxPooling2D\n",
        "from tensorflow.keras.utils import to_categorical\n",
        "import numpy as np\n",
        "import matplotlib\n",
        "import matplotlib.pyplot as plt\n",
        "\n",
        "# fix random seed for reproducibility\n",
        "seed = 7\n",
        "numpy.random.seed(seed)\n",
        "\n",
        "# load data\n",
        "(X_train, y_train), (X_test, y_test) = mnist.load_data()\n",
        "\n",
        "# plot 4 images as gray scale\n",
        "sp1 = plt.subplot(141)\n",
        "sp1.axis(False)\n",
        "sp1.set_title(y_train[0])\n",
        "sp1.imshow(X_train[0], cmap=plt.get_cmap('gray'))\n",
        "sp2 = plt.subplot(142)\n",
        "sp2.axis(False)\n",
        "sp2.set_title(y_train[1])\n",
        "sp2.imshow(X_train[1], cmap=plt.get_cmap('gray'))\n",
        "sp3 = plt.subplot(143)\n",
        "sp3.axis(False)\n",
        "sp3.set_title(y_train[2])\n",
        "sp3.imshow(X_train[2], cmap=plt.get_cmap('gray'))\n",
        "sp4 = plt.subplot(144)\n",
        "sp4.axis(False)\n",
        "sp4.set_title(y_train[3])\n",
        "sp4.imshow(X_train[3], cmap=plt.get_cmap('gray'))\n",
        "# show the plot\n",
        "plt.tight_layout()\n",
        "plt.show()"
      ]
    },
    {
      "cell_type": "code",
      "execution_count": null,
      "metadata": {
        "id": "44LWqaCsfU5c",
        "colab": {
          "base_uri": "https://localhost:8080/"
        },
        "outputId": "a48156da-dd0d-438e-a816-9788fc2b2f85"
      },
      "outputs": [
        {
          "output_type": "stream",
          "name": "stderr",
          "text": [
            "/usr/local/lib/python3.12/dist-packages/keras/src/layers/convolutional/base_conv.py:113: UserWarning: Do not pass an `input_shape`/`input_dim` argument to a layer. When using Sequential models, prefer using an `Input(shape)` object as the first layer in the model instead.\n",
            "  super().__init__(activity_regularizer=activity_regularizer, **kwargs)\n"
          ]
        },
        {
          "output_type": "stream",
          "name": "stdout",
          "text": [
            "Epoch 1/10\n",
            "\u001b[1m938/938\u001b[0m \u001b[32m━━━━━━━━━━━━━━━━━━━━\u001b[0m\u001b[37m\u001b[0m \u001b[1m15s\u001b[0m 9ms/step - accuracy: 0.9152 - loss: 0.2781 - val_accuracy: 0.9876 - val_loss: 0.0404\n",
            "Epoch 2/10\n",
            "\u001b[1m938/938\u001b[0m \u001b[32m━━━━━━━━━━━━━━━━━━━━\u001b[0m\u001b[37m\u001b[0m \u001b[1m11s\u001b[0m 4ms/step - accuracy: 0.9887 - loss: 0.0369 - val_accuracy: 0.9854 - val_loss: 0.0437\n",
            "Epoch 3/10\n",
            "\u001b[1m938/938\u001b[0m \u001b[32m━━━━━━━━━━━━━━━━━━━━\u001b[0m\u001b[37m\u001b[0m \u001b[1m6s\u001b[0m 5ms/step - accuracy: 0.9916 - loss: 0.0252 - val_accuracy: 0.9856 - val_loss: 0.0413\n",
            "Epoch 4/10\n",
            "\u001b[1m938/938\u001b[0m \u001b[32m━━━━━━━━━━━━━━━━━━━━\u001b[0m\u001b[37m\u001b[0m \u001b[1m4s\u001b[0m 4ms/step - accuracy: 0.9950 - loss: 0.0169 - val_accuracy: 0.9903 - val_loss: 0.0308\n",
            "Epoch 5/10\n",
            "\u001b[1m938/938\u001b[0m \u001b[32m━━━━━━━━━━━━━━━━━━━━\u001b[0m\u001b[37m\u001b[0m \u001b[1m5s\u001b[0m 4ms/step - accuracy: 0.9965 - loss: 0.0114 - val_accuracy: 0.9925 - val_loss: 0.0283\n",
            "Epoch 6/10\n",
            "\u001b[1m938/938\u001b[0m \u001b[32m━━━━━━━━━━━━━━━━━━━━\u001b[0m\u001b[37m\u001b[0m \u001b[1m4s\u001b[0m 4ms/step - accuracy: 0.9972 - loss: 0.0087 - val_accuracy: 0.9918 - val_loss: 0.0296\n",
            "Epoch 7/10\n",
            "\u001b[1m938/938\u001b[0m \u001b[32m━━━━━━━━━━━━━━━━━━━━\u001b[0m\u001b[37m\u001b[0m \u001b[1m3s\u001b[0m 4ms/step - accuracy: 0.9969 - loss: 0.0097 - val_accuracy: 0.9900 - val_loss: 0.0368\n",
            "Epoch 8/10\n",
            "\u001b[1m938/938\u001b[0m \u001b[32m━━━━━━━━━━━━━━━━━━━━\u001b[0m\u001b[37m\u001b[0m \u001b[1m3s\u001b[0m 4ms/step - accuracy: 0.9971 - loss: 0.0085 - val_accuracy: 0.9920 - val_loss: 0.0354\n",
            "Epoch 9/10\n",
            "\u001b[1m938/938\u001b[0m \u001b[32m━━━━━━━━━━━━━━━━━━━━\u001b[0m\u001b[37m\u001b[0m \u001b[1m4s\u001b[0m 4ms/step - accuracy: 0.9981 - loss: 0.0064 - val_accuracy: 0.9933 - val_loss: 0.0289\n",
            "Epoch 10/10\n",
            "\u001b[1m938/938\u001b[0m \u001b[32m━━━━━━━━━━━━━━━━━━━━\u001b[0m\u001b[37m\u001b[0m \u001b[1m5s\u001b[0m 4ms/step - accuracy: 0.9983 - loss: 0.0054 - val_accuracy: 0.9920 - val_loss: 0.0378\n",
            "Error: 0.80%\n",
            "Saved model to disk\n"
          ]
        }
      ],
      "source": [
        "# reshape to be [samples][channels][width][height]\n",
        "X_train = X_train.reshape(X_train.shape[0], 28, 28, 1).astype('float32')\n",
        "X_test = X_test.reshape(X_test.shape[0], 28, 28, 1).astype('float32')\n",
        "\n",
        "# normalize inputs from 0-255 to 0-1\n",
        "X_train = X_train / 255\n",
        "X_test = X_test / 255\n",
        "\n",
        "# one hot encode outputs\n",
        "y_train = to_categorical(y_train)\n",
        "y_test = to_categorical(y_test)\n",
        "num_classes = y_test.shape[1]\n",
        "\n",
        "# define model for LeNet\n",
        "# create model\n",
        "model = Sequential()\n",
        "model.add(Conv2D(20, (5, 5), padding=\"same\", input_shape=(28, 28, 1), activation='relu'))\n",
        "model.add(MaxPooling2D(pool_size=(2, 2), strides=(2, 2)))\n",
        "\n",
        "model.add(Conv2D(50, (5, 5), padding=\"same\", activation='relu'))\n",
        "model.add(MaxPooling2D(pool_size=(2, 2), strides=(2, 2)))\n",
        "\n",
        "model.add(Flatten())\n",
        "model.add(Dense(500, activation='relu'))\n",
        "model.add(Dense(num_classes, activation='softmax'))\n",
        "\n",
        "# Compile model\n",
        "model.compile(optimizer='adam', loss='categorical_crossentropy',metrics=['accuracy'])\n",
        "\n",
        "# Fit the model\n",
        "history = model.fit(X_train, y_train, validation_data=(X_test, y_test), epochs=10, batch_size=64)\n",
        "\n",
        "# Final evaluation of the model\n",
        "scores = model.evaluate(X_test, y_test, verbose=0)\n",
        "print(\"Error: %.2f%%\" % (100-scores[1]*100))\n",
        "\n",
        "# Insert the codes to serialize model to JSON\n",
        "# serialize model to JSON\n",
        "model_json = model.to_json()\n",
        "with open(\"model.json\", \"w\") as json_file:\n",
        "    json_file.write(model_json)\n",
        "# serialize weights to HDF5\n",
        "model.save_weights(\"model.weights.h5\")\n",
        "print(\"Saved model to disk\")"
      ]
    },
    {
      "cell_type": "code",
      "execution_count": null,
      "metadata": {
        "id": "BhKJygVUfU5c",
        "colab": {
          "base_uri": "https://localhost:8080/",
          "height": 518
        },
        "outputId": "c0527768-b2c3-4015-d6d8-a1525ffd31dd"
      },
      "outputs": [
        {
          "output_type": "stream",
          "name": "stdout",
          "text": [
            "Enter an index between 0 and 9999: 109\n",
            "\u001b[1m1/1\u001b[0m \u001b[32m━━━━━━━━━━━━━━━━━━━━\u001b[0m\u001b[37m\u001b[0m \u001b[1m1s\u001b[0m 507ms/step\n",
            "[[8.5172342e-19 3.1589795e-16 1.2422078e-19 2.0905665e-21 1.0000000e+00\n",
            "  2.8365327e-17 8.6320653e-14 3.1209734e-16 6.7525667e-13 2.8608449e-15]]\n",
            "Predicted label: 4\n"
          ]
        },
        {
          "output_type": "display_data",
          "data": {
            "text/plain": [
              "<Figure size 640x480 with 1 Axes>"
            ],
            "image/png": "[encoded data removed]"
          },
          "metadata": {}
        }
      ],
      "source": [
        "# Make predition (change index to a number between 0 and 9999)\n",
        "try:\n",
        "  index = int(input(\"Enter an index between 0 and 9999: \"))\n",
        "  assert 0 <= index < 10000, \"The index should be between 0 and 9999\"\n",
        "except Exception as e:\n",
        "  print(\"Error: \", e)\n",
        "else:\n",
        "  res = model.predict(X_test[index].reshape(1, 28, 28, 1))\n",
        "  print(res)\n",
        "  print(f'Predicted label: {np.argmax(res)}')\n",
        "\n",
        "  # Display the test image and show the actual label\n",
        "  plt.axis(False)\n",
        "  plt.title(f'Actual label: {y_test[index].argmax()}')\n",
        "  plt.imshow(X_test[index].reshape(28, 28) * 255, cmap='gray')\n",
        "  plt.show()"
      ]
    },
    {
      "cell_type": "code",
      "execution_count": null,
      "metadata": {
        "id": "CeKYMrXqr81F",
        "colab": {
          "base_uri": "https://localhost:8080/",
          "height": 973
        },
        "outputId": "26c04ae6-3d70-45da-e1a4-5b4906967e48"
      },
      "outputs": [
        {
          "output_type": "stream",
          "name": "stdout",
          "text": [
            "TensorFlow Version: 2.19.0\n",
            "Gradio Version: 5.44.1\n",
            "OpenCV Version: 4.12.0\n",
            "Keras Model loaded successfully from disk.\n",
            "Colab notebook detected. This cell will run indefinitely so that you can see errors and logs. To turn off, set debug=False in launch().\n",
            "* Running on public URL: https://ac4bad285e79a19551.gradio.live\n",
            "\n",
            "This share link expires in 1 week. For free permanent hosting and GPU upgrades, run `gradio deploy` from the terminal in the working directory to deploy to Hugging Face Spaces (https://huggingface.co/spaces)\n"
          ]
        },
        {
          "output_type": "display_data",
          "data": {
            "text/plain": [
              "<IPython.core.display.HTML object>"
            ],
            "text/html": [
              "<div><iframe src=\"https://ac4bad285e79a19551.gradio.live\" width=\"100%\" height=\"500\" allow=\"autoplay; camera; microphone; clipboard-read; clipboard-write;\" frameborder=\"0\" allowfullscreen></iframe></div>"
            ]
          },
          "metadata": {}
        },
        {
          "output_type": "stream",
          "name": "stdout",
          "text": [
            "--------------------\n",
            "Received input type: <class 'dict'>\n",
            "Received input value (dict keys): dict_keys(['background', 'layers', 'composite'])\n",
            "--------------------\n",
            "Input is a dictionary. Keys: dict_keys(['background', 'layers', 'composite'])\n",
            "Found 'composite' key with numpy array, using it.\n",
            "Processing image with shape: (800, 800)\n",
            "Image is grayscale.\n",
            "Inverting image colors (assuming white on black needed).\n",
            "Applying threshold.\n",
            "Resizing image to (28, 28).\n",
            "Reshaping and normalizing for model.\n",
            "Making prediction.\n",
            "\u001b[1m1/1\u001b[0m \u001b[32m━━━━━━━━━━━━━━━━━━━━\u001b[0m\u001b[37m\u001b[0m \u001b[1m1s\u001b[0m 617ms/step\n",
            "Formatting predictions.\n",
            "Returning results.\n"
          ]
        }
      ],
      "source": [
        "import gradio as gr\n",
        "import cv2 # Using OpenCV for image processing\n",
        "import tensorflow as tf\n",
        "from tensorflow.keras.models import model_from_json\n",
        "import os # To check if model files exist\n",
        "\n",
        "print(\"TensorFlow Version:\", tf.__version__)\n",
        "print(\"Gradio Version:\", gr.__version__)\n",
        "print(\"OpenCV Version:\", cv2.__version__)\n",
        "\n",
        "# --- Configuration ---\n",
        "MODEL_JSON_PATH = 'model.json'\n",
        "MODEL_WEIGHTS_PATH = 'model.weights.h5'\n",
        "INPUT_SHAPE = (28, 28) # Expected input shape for the model (height, width)\n",
        "\n",
        "# --- Load Model (Do this once outside the prediction function) ---\n",
        "net = None\n",
        "model_loaded = False\n",
        "\n",
        "if os.path.exists(MODEL_JSON_PATH) and os.path.exists(MODEL_WEIGHTS_PATH):\n",
        "    try:\n",
        "        # Load model architecture from JSON\n",
        "        with open(MODEL_JSON_PATH, 'r') as json_file:\n",
        "            loaded_model_json = json_file.read()\n",
        "        net = model_from_json(loaded_model_json)\n",
        "\n",
        "        # Load weights into the model\n",
        "        net.load_weights(MODEL_WEIGHTS_PATH)\n",
        "\n",
        "        # Compile the model (often necessary after loading, even if just for prediction)\n",
        "        # Use standard settings; adjust if your model requires specific ones.\n",
        "        net.compile(optimizer='adam', loss='categorical_crossentropy', metrics=['accuracy'])\n",
        "\n",
        "        print(\"Keras Model loaded successfully from disk.\")\n",
        "        model_loaded = True\n",
        "        # Optional: Print model summary\n",
        "        # net.summary()\n",
        "\n",
        "    except Exception as e:\n",
        "        print(f\"Error loading Keras model: {e}\")\n",
        "        print(\"Please ensure 'model.json' and 'model.weights.h5' are uploaded correctly.\")\n",
        "else:\n",
        "    print(f\"Error: Model files not found.\")\n",
        "    print(f\"Please make sure '{MODEL_JSON_PATH}' and '{MODEL_WEIGHTS_PATH}' exist in the current directory.\")\n",
        "\n",
        "# --- Prediction Function ---\n",
        "def recognize_digit(image):\n",
        "    # --- START DEBUGGING PRINTS ---\n",
        "    print(\"-\" * 20)\n",
        "    print(f\"Received input type: {type(image)}\")\n",
        "    # Limit printing the full value if it's large (like an image array or complex dict)\n",
        "    if isinstance(image, (dict, np.ndarray)) and image is not None:\n",
        "         # Try printing keys for dict, shape for array, else snippet\n",
        "         if isinstance(image, dict):\n",
        "              print(f\"Received input value (dict keys): {image.keys()}\")\n",
        "         elif hasattr(image, 'shape'):\n",
        "              print(f\"Received input value (array shape): {image.shape}\")\n",
        "         else:\n",
        "              print(f\"Received input value: {str(image)[:100]}...\") # Print snippet\n",
        "    else:\n",
        "         print(f\"Received input value: {image}\") # Print simple types directly\n",
        "    print(\"-\" * 20)\n",
        "    # --- END DEBUGGING PRINTS ---\n",
        "\n",
        "    # Handle None case FIRST\n",
        "    if image is None:\n",
        "        print(\"Input image is None, returning.\")\n",
        "        return \"Please draw a digit.\", None\n",
        "\n",
        "    # --- Check if it's a dictionary and try to extract 'composite' image ---\n",
        "    if isinstance(image, dict):\n",
        "        print(\"Input is a dictionary. Keys:\", image.keys())\n",
        "        # --- Updated Logic: Check for 'composite' key ---\n",
        "        if 'composite' in image and isinstance(image['composite'], np.ndarray):\n",
        "            print(\"Found 'composite' key with numpy array, using it.\")\n",
        "            image = image['composite'] # Extract the composite image array\n",
        "        else:\n",
        "            # If 'composite' key doesn't exist or isn't a numpy array\n",
        "            print(\"Error: Input is a dictionary but cannot find valid 'composite' image data.\")\n",
        "            # Print types of dictionary values for more detail if needed\n",
        "            for key in image:\n",
        "                 if image[key] is not None:\n",
        "                      print(f\"  Key '{key}' type: {type(image[key])}, Shape/Len: {getattr(image[key], 'shape', len(getattr(image[key], '__dict__', image[key])))}\")\n",
        "                 else:\n",
        "                      print(f\"  Key '{key}' type: None\")\n",
        "            return \"Error: Unexpected dictionary format from Sketchpad.\", None\n",
        "    # --- End of dictionary handling ---\n",
        "\n",
        "    # --- Defensive Check for shape attribute ---\n",
        "    # Now, 'image' should be a NumPy array (either originally or extracted)\n",
        "    if not hasattr(image, 'shape'):\n",
        "         print(f\"Error: Input STILL does not have 'shape' after processing. Type is {type(image)}\")\n",
        "         return \"Error: Unexpected input format after processing.\", None\n",
        "\n",
        "    # Check image dimensions and convert to grayscale if necessary\n",
        "    print(f\"Processing image with shape: {image.shape}\")\n",
        "    if len(image.shape) == 2: # Grayscale already\n",
        "        gray_image = image\n",
        "        print(\"Image is grayscale.\")\n",
        "    elif len(image.shape) == 3 and image.shape[2] == 4: # RGBA\n",
        "        # Sketchpad composite might be RGBA\n",
        "        print(\"Image is RGBA, converting to grayscale.\")\n",
        "        # Convert RGBA to Grayscale - handle transparency appropriately if needed\n",
        "        # A simple approach is to convert to RGB first, then Gray\n",
        "        # Or directly, ensuring background color handling if alpha is used\n",
        "        gray_image = cv2.cvtColor(image, cv2.COLOR_RGBA2GRAY) # OpenCV handles RGBA->Gray\n",
        "    elif len(image.shape) == 3 and image.shape[2] == 3: # RGB\n",
        "        print(\"Image is RGB, converting to grayscale.\")\n",
        "        gray_image = cv2.cvtColor(image, cv2.COLOR_RGB2GRAY)\n",
        "    else:\n",
        "        print(f\"Error: Input image has unexpected shape: {image.shape}\")\n",
        "        return \"Error: Invalid image dimensions.\", None\n",
        "\n",
        "    # Ensure manual inversion is still present if needed (white-on-black)\n",
        "    print(\"Inverting image colors (assuming white on black needed).\")\n",
        "    gray_image = 255 - gray_image\n",
        "\n",
        "    # Optional: Apply thresholding\n",
        "    print(\"Applying threshold.\")\n",
        "    _, processed_image = cv2.threshold(gray_image, 50, 255, cv2.THRESH_BINARY)\n",
        "\n",
        "    # Resize to the target input size\n",
        "    print(f\"Resizing image to {INPUT_SHAPE}.\")\n",
        "    processed_image = cv2.resize(processed_image, INPUT_SHAPE, interpolation=cv2.INTER_AREA)\n",
        "\n",
        "    # Reshape and Normalize\n",
        "    print(\"Reshaping and normalizing for model.\")\n",
        "    blob = processed_image.reshape(1, INPUT_SHAPE[0], INPUT_SHAPE[1], 1).astype('float32')\n",
        "    blob /= 255.0\n",
        "\n",
        "    # Make Prediction\n",
        "    print(\"Making prediction.\")\n",
        "    try:\n",
        "        predictions = net.predict(blob)\n",
        "    except Exception as e:\n",
        "        print(f\"Error during prediction: {e}\")\n",
        "        return f\"Prediction error: {e}\", processed_image # Return error and processed image\n",
        "\n",
        "    # Format Output\n",
        "    print(\"Formatting predictions.\")\n",
        "    confidences = {str(i): float(predictions[0][i]) for i in range(len(predictions[0]))}\n",
        "\n",
        "    print(\"Returning results.\")\n",
        "    return confidences, processed_image\n",
        "\n",
        "# --- Create Gradio Interface ---\n",
        "if model_loaded:\n",
        "# Define Input and Output Components\n",
        "    input_sketchpad = gr.Sketchpad(\n",
        "        label=\"Draw a Digit (0-9)\",\n",
        "        image_mode='L'\n",
        "    )\n",
        "\n",
        "    output_label = gr.Label(\n",
        "        num_top_classes=3,\n",
        "        label=\"Predictions\"\n",
        "    )\n",
        "\n",
        "    # Corrected gr.Image definition\n",
        "    output_processed_image = gr.Image(\n",
        "        label=\"Processed Input (28x28)\",\n",
        "        # shape=(INPUT_SHAPE[1], INPUT_SHAPE[0]), # This caused the error\n",
        "        width=INPUT_SHAPE[1],  # Set width explicitly (should be 28)\n",
        "        height=INPUT_SHAPE[0], # Set height explicitly (should be 28)\n",
        "        image_mode='L'         # Keep image mode as grayscale\n",
        "    )\n",
        "\n",
        "    # Create the Interface\n",
        "    iface = gr.Interface(\n",
        "        fn=recognize_digit,\n",
        "        inputs=input_sketchpad,\n",
        "        outputs=[output_label, output_processed_image], # List of outputs\n",
        "        live=False,\n",
        "        title=\"Handwritten Digit Recognizer\",\n",
        "        description=\"Draw a single digit (0-9) in the box below. The model will predict the digit in real-time. Ensure the model files ('model.json', 'model.weights.h5') are uploaded.\"\n",
        "    )\n",
        "\n",
        "    # Launch the Interface (share=True provides a public link for Colab)\n",
        "    iface.launch(share=True, debug=True) # debug=True can help troubleshoot\n",
        "\n",
        "else:\n",
        "    print(\"\\n--- Gradio Interface cannot start because the model failed to load. ---\")\n",
        "    print(\"Please check the file paths and ensure the model files are correct and uploaded.\")\n"
      ]
    }
  ],
  "metadata": {
    "accelerator": "GPU",
    "colab": {
      "gpuType": "T4",
      "provenance": [],
      "include_colab_link": true
    },
    "kernelspec": {
      "display_name": "Python 3 (ipykernel)",
      "language": "python",
      "name": "python3"
    },
    "language_info": {
      "codemirror_mode": {
        "name": "ipython",
        "version": 3
      },
      "file_extension": ".py",
      "mimetype": "text/x-python",
      "name": "python",
      "nbconvert_exporter": "python",
      "pygments_lexer": "ipython3",
      "version": "3.12.4"
    }
  },
  "nbformat": 4,
  "nbformat_minor": 0
}